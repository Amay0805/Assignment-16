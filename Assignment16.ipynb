{
 "cells": [
  {
   "cell_type": "code",
   "execution_count": 16,
   "id": "893fc5c4-5ec7-4e37-b89d-72032594cf3a",
   "metadata": {},
   "outputs": [],
   "source": [
    "# 1\n",
    "# What is a Python library? Why do we use Python libraries?\n",
    "# A python library is a file. We can use the funcitons and classes of that file by including the library in our code.\n",
    "# We use the Python libraries so that we can use the functions and classes of the Python libraries which are not in-built."
   ]
  },
  {
   "cell_type": "code",
   "execution_count": 2,
   "id": "a2edf5fc-ccaf-4409-91be-c0cf7ec0f03c",
   "metadata": {},
   "outputs": [],
   "source": [
    "# 2\n",
    "# What is the difference between Numpy array and List?\n",
    "# Numpy array is used from Numpy library. Numpy library is written in C++ Language.\n",
    "# Hence Numpy library is very fast compared to python lists.\n",
    "# List consists of Heterogeneous data whereas numpy arrays consists of Homogeneous data.\n",
    "# Lists stores the addresses of elements and not elements itself. On the other hand numpy arrays stores the elements itself."
   ]
  },
  {
   "cell_type": "code",
   "execution_count": 3,
   "id": "4e7cf1da-6ffe-4a86-bdee-e78b03883d90",
   "metadata": {},
   "outputs": [
    {
     "name": "stdout",
     "output_type": "stream",
     "text": [
      "arr.size = 12\n",
      "arr.shape = (3, 4)\n",
      "arr.size = 2\n"
     ]
    }
   ],
   "source": [
    "# 3\n",
    "import numpy as np\n",
    "# 3. Find the shape, size and dimensions of the following array.\n",
    "# [[1, 2, 3, 4]\n",
    "# [5, 6, 7, 8],\n",
    "# [9, 10, 11, 12]]\n",
    "\n",
    "arr = np.array([[1, 2, 3, 4],[5, 6, 7, 8],[9, 10, 11, 12]])\n",
    "print(f\"arr.size = {arr.size}\")\n",
    "print(f\"arr.shape = {arr.shape}\")\n",
    "print(f\"arr.size = {arr.ndim}\")\n"
   ]
  },
  {
   "cell_type": "code",
   "execution_count": 4,
   "id": "d34fea29-ece4-4fd9-a404-c3f30a31a07f",
   "metadata": {},
   "outputs": [
    {
     "name": "stdout",
     "output_type": "stream",
     "text": [
      "Hello\n",
      "array's first row = [1 2 3 4]\n"
     ]
    }
   ],
   "source": [
    "# 4\n",
    "import numpy as np\n",
    "# Write python code to access the first row of the following array?\n",
    "# [[1, 2, 3, 4],\n",
    "# [5, 6, 7, 8],\n",
    "# [9, 10, 11, 12]]\n",
    "\n",
    "arr = np.array([[1, 2, 3, 4],[5, 6, 7, 8],[9, 10, 11, 12]])\n",
    "print(\"Hello\")\n",
    "print(f\"array's first row = {arr[0]}\")"
   ]
  },
  {
   "cell_type": "code",
   "execution_count": 5,
   "id": "0013a844-63ed-4358-b5ae-d21b7a2728ca",
   "metadata": {},
   "outputs": [
    {
     "name": "stdout",
     "output_type": "stream",
     "text": [
      "Element at 3rd Row and 4th Column is: 12\n"
     ]
    }
   ],
   "source": [
    "# 5\n",
    "import numpy as np\n",
    "# How do you access the element at the third row and fourth column from the given numpy array?\n",
    "# [[1, 2, 3, 4],\n",
    "# [5, 6, 7, 8],\n",
    "# [9, 10, 11, 12]]\n",
    "\n",
    "arr = np.array([[1, 2, 3, 4],[5, 6, 7, 8],[9, 10, 11, 12]])\n",
    "print(f\"Element at 3rd Row and 4th Column is: {arr[2][3]}\")"
   ]
  },
  {
   "cell_type": "code",
   "execution_count": 6,
   "id": "73dca0af-4544-4977-ad3a-1243188fcc34",
   "metadata": {},
   "outputs": [
    {
     "name": "stdout",
     "output_type": "stream",
     "text": [
      "The odd indexed elements are:\n",
      "[[ 2  4]\n",
      " [ 6  8]\n",
      " [10 12]]\n"
     ]
    }
   ],
   "source": [
    "# 6\n",
    "import numpy as np\n",
    "# Write code to extract all odd-indexed elements from the given numpy array?\n",
    "# [[1, 2, 3, 4],\n",
    "# [5, 6, 7, 8],\n",
    "# [9, 10, 11, 12]]\n",
    "\n",
    "arr = np.array([[1, 2, 3, 4],[5, 6, 7, 8],[9, 10, 11, 12]])\n",
    "print(f\"The odd indexed elements are:\\n{arr[0:3,1::2]}\")"
   ]
  },
  {
   "cell_type": "code",
   "execution_count": 7,
   "id": "e1832d09-eabb-4b97-ad2b-73dd0fcc5c0d",
   "metadata": {},
   "outputs": [
    {
     "name": "stdout",
     "output_type": "stream",
     "text": [
      "[[0.808073   0.7464987  0.38074191]\n",
      " [0.8756146  0.66391734 0.05093614]\n",
      " [0.29816961 0.55295151 0.7096307 ]]\n",
      "[[0.85615503 0.6098162  0.68177451]\n",
      " [0.95846441 0.04158703 0.41676111]\n",
      " [0.75933466 0.16729561 0.64742874]]\n"
     ]
    }
   ],
   "source": [
    "# 7\n",
    "# How can you generate a random 3x3 matrix with values between 0 and 1?\n",
    "import numpy as np\n",
    "print(np.random.random_sample((3,3)))\n",
    "print(np.random.rand(3,3))"
   ]
  },
  {
   "cell_type": "code",
   "execution_count": 8,
   "id": "a9d7a0ea-2be4-478b-a6fc-08b5ab6f963b",
   "metadata": {},
   "outputs": [],
   "source": [
    "# 8\n",
    "# Describe the difference between np.random.rand and np.random.randn?\n",
    "# np.random.rand prints values betweeen 0-1 while np.random.randn can print any values between positive infinity to negative infinity.\n",
    "# But the values generated are more likely to be closer to zero in the case of np.random.rand."
   ]
  },
  {
   "cell_type": "code",
   "execution_count": 9,
   "id": "d59dcf7c-5138-4438-9d52-644e78a3b77e",
   "metadata": {},
   "outputs": [
    {
     "name": "stdout",
     "output_type": "stream",
     "text": [
      "Now we are expanding the array when axis = 0\n",
      "[[[ 1  2  3  4]\n",
      "  [ 5  6  7  8]\n",
      "  [ 9 10 11 12]]]\n",
      "\n",
      "Now we are expanding the array when axis = 1\n",
      "[[[ 1  2  3  4]]\n",
      "\n",
      " [[ 5  6  7  8]]\n",
      "\n",
      " [[ 9 10 11 12]]]\n"
     ]
    }
   ],
   "source": [
    "# 9\n",
    "# Write code to increase the dimension of the following array? \n",
    "# [[1, 2, 3, 4],\n",
    "# [5, 6, 7, 8], \n",
    "# [9, 10, 11, 12]] \n",
    "import numpy as np\n",
    "arr = np.array([[1, 2, 3, 4],[5, 6, 7, 8],[9, 10, 11, 12]])\n",
    "print(\"Now we are expanding the array when axis = 0\")\n",
    "print(np.expand_dims(arr, axis = 0))\n",
    "print()\n",
    "print(\"Now we are expanding the array when axis = 1\")\n",
    "print(np.expand_dims(arr, axis = 1))"
   ]
  },
  {
   "cell_type": "code",
   "execution_count": 10,
   "id": "5987ed4f-1248-4b5d-b761-47695c7039fd",
   "metadata": {},
   "outputs": [
    {
     "name": "stdout",
     "output_type": "stream",
     "text": [
      "[[ 1  5  9]\n",
      " [ 2  6 10]\n",
      " [ 3  7 11]\n",
      " [ 4  8 12]]\n"
     ]
    }
   ],
   "source": [
    "# 10\n",
    "# 10. How to transpose the following array in NumPy? \n",
    "# [[1, 2, 3, 4] \n",
    "# [5, 6, 7, 8], \n",
    "# [9, 10, 11, 12]]\n",
    "\n",
    "import numpy as np\n",
    "\n",
    "arr = np.array([[1, 2, 3, 4],[5, 6, 7, 8],[9, 10, 11, 12]])\n",
    "print(arr.T)"
   ]
  },
  {
   "cell_type": "code",
   "execution_count": 11,
   "id": "3be6b9b8-f3e6-4ee2-bf6b-14a86bec4cbf",
   "metadata": {},
   "outputs": [
    {
     "name": "stdout",
     "output_type": "stream",
     "text": [
      "Indexwise Multiplication = \n",
      " [[  1   4   9  16]\n",
      " [ 25  36  49  64]\n",
      " [ 81 100 121 144]\n",
      " [169 196 225 256]]\n",
      "\n",
      "Matrix Multiplication = \n",
      " [[ 90 100 110 120]\n",
      " [202 228 254 280]\n",
      " [314 356 398 440]\n",
      " [426 484 542 600]]\n",
      "\n",
      "Matrix Addition = \n",
      " [[ 2  4  6  8]\n",
      " [10 12 14 16]\n",
      " [18 20 22 24]\n",
      " [26 28 30 32]]\n",
      "\n",
      "Matrix Subtraction = \n",
      " [[0 0 0 0]\n",
      " [0 0 0 0]\n",
      " [0 0 0 0]\n",
      " [0 0 0 0]]\n",
      "\n",
      "Matrix Division = \n",
      " [[1. 1. 1. 1.]\n",
      " [1. 1. 1. 1.]\n",
      " [1. 1. 1. 1.]\n",
      " [1. 1. 1. 1.]]\n"
     ]
    }
   ],
   "source": [
    "# 11\n",
    "# Consider the following matrix:\n",
    "# Matrix A: [[1, 2, 3, 4] [5, 6, 7, 8],[9, 10, 11, 12]]\n",
    "# Matrix B: [[1, 2, 3, 4] [5, 6, 7, 8],[9, 10, 11, 12]]\n",
    "# Perform the following operation using Python\n",
    "# Perform the following operation using Python \n",
    "#  1. Index wise multiplication\n",
    "#  2. Matrix multiplication \n",
    "#  3. Add both the matrix \n",
    "#  4. Subtract matrix B from A \n",
    "#  5. Divide Matrix B by A\n",
    "\n",
    "import numpy as np\n",
    "A = np.array([[1, 2, 3, 4],[5, 6, 7, 8],[9, 10, 11, 12],[13,14,15,16]])\n",
    "B = np.array([[1, 2, 3, 4],[5, 6, 7, 8],[9, 10, 11, 12],[13,14,15,16]])\n",
    "print(f\"Indexwise Multiplication = \\n {A * B}\")\n",
    "print(f\"\\nMatrix Multiplication = \\n {A @ B}\")\n",
    "print(f\"\\nMatrix Addition = \\n {A + B}\")\n",
    "print(f\"\\nMatrix Subtraction = \\n {A - B}\")\n",
    "print(f\"\\nMatrix Division = \\n {B / A}\")"
   ]
  },
  {
   "cell_type": "code",
   "execution_count": 12,
   "id": "3d00bf91-e333-4da5-a131-edb0613c6d0c",
   "metadata": {},
   "outputs": [],
   "source": [
    "# 12\n",
    "# Which function in Numpy can be used to swap the byte order of an array?"
   ]
  },
  {
   "cell_type": "code",
   "execution_count": 13,
   "id": "6fc5f270-8e3a-41ac-a9b6-e183a1839d3d",
   "metadata": {},
   "outputs": [],
   "source": [
    "# 13\n",
    "# What is the significance of the np.linalg.inv function?"
   ]
  },
  {
   "cell_type": "code",
   "execution_count": 14,
   "id": "5b6be96a-f569-4dc0-9a0d-1beec10366f0",
   "metadata": {},
   "outputs": [
    {
     "name": "stdout",
     "output_type": "stream",
     "text": [
      "Original array:\n",
      "[1 2 3 4 5 6]\n",
      "\n",
      "Reshaped array:\n",
      "[[1 2 3]\n",
      " [4 5 6]]\n"
     ]
    }
   ],
   "source": [
    "# 14\n",
    "# What does the np.reshape function do, and how is it used?\n",
    "\n",
    "import numpy as np\n",
    "# The np.reshape() function in NumPy is used to change the shape (dimensions) of an array while keeping the same data.\n",
    "\n",
    "# Create a 1D array\n",
    "arr = np.array([1, 2, 3, 4, 5, 6])\n",
    "# Reshape the array into a 2x3 matrix\n",
    "reshaped_arr = np.reshape(arr, (2, 3))\n",
    "\n",
    "print(\"Original array:\")\n",
    "print(arr)\n",
    "\n",
    "print(\"\\nReshaped array:\")\n",
    "print(reshaped_arr)"
   ]
  },
  {
   "cell_type": "code",
   "execution_count": 15,
   "id": "3ad7f204-301e-434e-b8f8-aa3bf0824620",
   "metadata": {},
   "outputs": [
    {
     "name": "stdout",
     "output_type": "stream",
     "text": [
      "[11 12 13 14]\n"
     ]
    }
   ],
   "source": [
    "# 15\n",
    "# What is broadcasting in Numpy?\n",
    "# Broadcasting in NumPy is a way to perform arithmetic operations (like addition, subtraction, multiplication, etc.)\n",
    "# between arrays of different shapes without having to explicitly reshape them or use loops.\n",
    "# Example\n",
    "import numpy as np\n",
    "\n",
    "arr = np.array([1, 2, 3, 4])\n",
    "scalar = 10\n",
    "\n",
    "result = arr + scalar\n",
    "print(result)"
   ]
  }
 ],
 "metadata": {
  "kernelspec": {
   "display_name": "Python 3 (ipykernel)",
   "language": "python",
   "name": "python3"
  },
  "language_info": {
   "codemirror_mode": {
    "name": "ipython",
    "version": 3
   },
   "file_extension": ".py",
   "mimetype": "text/x-python",
   "name": "python",
   "nbconvert_exporter": "python",
   "pygments_lexer": "ipython3",
   "version": "3.12.2"
  }
 },
 "nbformat": 4,
 "nbformat_minor": 5
}
